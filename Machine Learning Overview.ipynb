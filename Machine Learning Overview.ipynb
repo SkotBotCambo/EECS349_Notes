{
 "metadata": {
  "name": "",
  "signature": "sha256:e7ad1d8766e342f2c997b63888a0c56fd45174f8c38413dd301e5012f8b4839a"
 },
 "nbformat": 3,
 "nbformat_minor": 0,
 "worksheets": [
  {
   "cells": [
    {
     "cell_type": "markdown",
     "metadata": {},
     "source": [
      "#Doing Machine Learning\n",
      "* pick a feature representation for your task\n",
      "* compile data\n",
      "* choose a machine learning algorithm\n",
      "* train the algorithm\n",
      "* evaluate the algorithm\n",
      "* analyze the results\n",
      "    * Most import part, make sure to explain how this approach is better than others"
     ]
    },
    {
     "cell_type": "code",
     "collapsed": false,
     "input": [],
     "language": "python",
     "metadata": {},
     "outputs": []
    }
   ],
   "metadata": {}
  }
 ]
}